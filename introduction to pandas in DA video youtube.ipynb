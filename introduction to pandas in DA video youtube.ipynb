{
 "cells": [
  {
   "cell_type": "code",
   "execution_count": 1,
   "id": "0bc8e964-48c6-4428-8c04-fbf973e6a5cb",
   "metadata": {},
   "outputs": [],
   "source": [
    "import pandas as pd"
   ]
  },
  {
   "cell_type": "markdown",
   "id": "ee278f71-ef6e-471c-9ead-02e4d8e4d5d6",
   "metadata": {},
   "source": [
    "###   Creation of Dataframes in pandas"
   ]
  },
  {
   "cell_type": "code",
   "execution_count": 3,
   "id": "a964b07d-a370-4f28-af23-1bdaac8723fa",
   "metadata": {},
   "outputs": [
    {
     "name": "stdout",
     "output_type": "stream",
     "text": [
      "     Name  Age  Salary\n",
      "0  Chetan   21   50000\n",
      "1  Aakash   20   45000\n",
      "2  Shivam   23   60000\n"
     ]
    }
   ],
   "source": [
    "data = {\"Name\" : [\"Chetan\",\"Aakash\",\"Shivam\"],\n",
    "       \"Age\": [21,20,23],\n",
    "       \"Salary\": [50000,45000,60000]\n",
    "       }\n",
    "dict = pd.DataFrame(data)\n",
    "print(dict)"
   ]
  },
  {
   "cell_type": "code",
   "execution_count": 4,
   "id": "f107a8bf-398d-4832-8eb8-299fb922b145",
   "metadata": {},
   "outputs": [
    {
     "name": "stdout",
     "output_type": "stream",
     "text": [
      "0    23\n",
      "1    46\n",
      "2    56\n",
      "3    76\n",
      "dtype: int64\n"
     ]
    }
   ],
   "source": [
    "data = [23,46,56,76]\n",
    "print(pd.Series(data))"
   ]
  },
  {
   "cell_type": "code",
   "execution_count": 5,
   "id": "05b89257-547a-481a-90cc-281036a9c424",
   "metadata": {},
   "outputs": [
    {
     "name": "stdout",
     "output_type": "stream",
     "text": [
      "   Customer_ID   Name   Age       City  Purchase_Amount\n",
      "0          101   Amit  25.0     Mumbai           5000.0\n",
      "1          102   Riya  30.0      Delhi           7000.0\n",
      "2          103  Sohan   NaN  Bangalore           4500.0\n",
      "3          104  Priya  28.0    Chennai              NaN\n",
      "4          105    NaN  40.0    Kolkata           8000.0\n"
     ]
    }
   ],
   "source": [
    "data = pd.read_csv(\"D:/Data Science Doument  ExcelR/Data Sets/customer_data.csv\")\n",
    "print(data.head())"
   ]
  },
  {
   "cell_type": "code",
   "execution_count": 6,
   "id": "0c724989-54a7-45fd-9018-ae014d05ec5b",
   "metadata": {},
   "outputs": [
    {
     "name": "stdout",
     "output_type": "stream",
     "text": [
      "       Univ   SAT  Top10  Accept  SFRatio  Expenses  GradRate\n",
      "0     Brown  1310     89      22       13     22704        94\n",
      "1   CalTech  1415    100      25        6     63575        81\n",
      "2       CMU  1260     62      59        9     25026        72\n",
      "3  Columbia  1310     76      24       12     31510        88\n",
      "4   Cornell  1280     83      33       13     21864        90\n"
     ]
    }
   ],
   "source": [
    "data1 = pd.read_excel(\"D:/Data Science Doument  ExcelR/Data Sets/Universities.xlsx\")\n",
    "print(data1.head())"
   ]
  },
  {
   "cell_type": "markdown",
   "id": "ab5d15f6-ed25-4d36-9898-371a3ec916cd",
   "metadata": {},
   "source": [
    "### Exploring Data in pandas"
   ]
  },
  {
   "cell_type": "code",
   "execution_count": 9,
   "id": "52bc82fc-cdca-4aaa-b38d-a1bdf73577ed",
   "metadata": {},
   "outputs": [
    {
     "name": "stdout",
     "output_type": "stream",
     "text": [
      "          Univ   SAT  Top10  Accept  SFRatio  Expenses  GradRate\n",
      "15      Purdue  1005     28      90       19      9066        69\n",
      "16    Stanford  1360     90      20       12     36450        93\n",
      "17    TexasA&M  1075     49      67       25      8704        67\n",
      "18  UCBerkeley  1240     95      40       17     15140        78\n",
      "19    UChicago  1290     75      50       13     38380        87\n",
      "20   UMichigan  1180     65      68       16     15470        85\n",
      "21       UPenn  1285     80      36       11     27553        90\n",
      "22         UVA  1225     77      44       14     13349        92\n",
      "23  UWisconsin  1085     40      69       15     11857        71\n",
      "24        Yale  1375     95      19       11     43514        96\n"
     ]
    }
   ],
   "source": [
    "print(data1.tail(10))"
   ]
  },
  {
   "cell_type": "code",
   "execution_count": 12,
   "id": "e5a82c38-0957-48a6-b9af-fdf6b7f50a56",
   "metadata": {},
   "outputs": [
    {
     "name": "stdout",
     "output_type": "stream",
     "text": [
      "   Customer_ID   Name   Age       City  Purchase_Amount\n",
      "0          101   Amit  25.0     Mumbai           5000.0\n",
      "1          102   Riya  30.0      Delhi           7000.0\n",
      "2          103  Sohan   NaN  Bangalore           4500.0\n",
      "3          104  Priya  28.0    Chennai              NaN\n",
      "4          105    NaN  40.0    Kolkata           8000.0\n",
      "5          106   Neha  22.0        NaN           3000.0\n",
      "6          106   Neha  22.0     Mumbai           3000.0\n"
     ]
    }
   ],
   "source": [
    "print(data.head(10))"
   ]
  },
  {
   "cell_type": "code",
   "execution_count": 14,
   "id": "f5c03e69-b25b-4d5a-8972-800043fb0fb6",
   "metadata": {},
   "outputs": [
    {
     "name": "stdout",
     "output_type": "stream",
     "text": [
      "<class 'pandas.core.frame.DataFrame'>\n",
      "RangeIndex: 25 entries, 0 to 24\n",
      "Data columns (total 7 columns):\n",
      " #   Column    Non-Null Count  Dtype \n",
      "---  ------    --------------  ----- \n",
      " 0   Univ      25 non-null     object\n",
      " 1   SAT       25 non-null     int64 \n",
      " 2   Top10     25 non-null     int64 \n",
      " 3   Accept    25 non-null     int64 \n",
      " 4   SFRatio   25 non-null     int64 \n",
      " 5   Expenses  25 non-null     int64 \n",
      " 6   GradRate  25 non-null     int64 \n",
      "dtypes: int64(6), object(1)\n",
      "memory usage: 1.5+ KB\n"
     ]
    }
   ],
   "source": [
    "data1.info()"
   ]
  },
  {
   "cell_type": "code",
   "execution_count": 15,
   "id": "ed929bb4-8f28-4f8e-9065-1230d1b61133",
   "metadata": {},
   "outputs": [
    {
     "data": {
      "text/html": [
       "<div>\n",
       "<style scoped>\n",
       "    .dataframe tbody tr th:only-of-type {\n",
       "        vertical-align: middle;\n",
       "    }\n",
       "\n",
       "    .dataframe tbody tr th {\n",
       "        vertical-align: top;\n",
       "    }\n",
       "\n",
       "    .dataframe thead th {\n",
       "        text-align: right;\n",
       "    }\n",
       "</style>\n",
       "<table border=\"1\" class=\"dataframe\">\n",
       "  <thead>\n",
       "    <tr style=\"text-align: right;\">\n",
       "      <th></th>\n",
       "      <th>SAT</th>\n",
       "      <th>Top10</th>\n",
       "      <th>Accept</th>\n",
       "      <th>SFRatio</th>\n",
       "      <th>Expenses</th>\n",
       "      <th>GradRate</th>\n",
       "    </tr>\n",
       "  </thead>\n",
       "  <tbody>\n",
       "    <tr>\n",
       "      <th>count</th>\n",
       "      <td>25.000000</td>\n",
       "      <td>25.000000</td>\n",
       "      <td>25.000000</td>\n",
       "      <td>25.00000</td>\n",
       "      <td>25.000000</td>\n",
       "      <td>25.000000</td>\n",
       "    </tr>\n",
       "    <tr>\n",
       "      <th>mean</th>\n",
       "      <td>1266.440000</td>\n",
       "      <td>76.480000</td>\n",
       "      <td>39.200000</td>\n",
       "      <td>12.72000</td>\n",
       "      <td>27388.000000</td>\n",
       "      <td>86.720000</td>\n",
       "    </tr>\n",
       "    <tr>\n",
       "      <th>std</th>\n",
       "      <td>108.359771</td>\n",
       "      <td>19.433905</td>\n",
       "      <td>19.727308</td>\n",
       "      <td>4.06735</td>\n",
       "      <td>14424.883165</td>\n",
       "      <td>9.057778</td>\n",
       "    </tr>\n",
       "    <tr>\n",
       "      <th>min</th>\n",
       "      <td>1005.000000</td>\n",
       "      <td>28.000000</td>\n",
       "      <td>14.000000</td>\n",
       "      <td>6.00000</td>\n",
       "      <td>8704.000000</td>\n",
       "      <td>67.000000</td>\n",
       "    </tr>\n",
       "    <tr>\n",
       "      <th>25%</th>\n",
       "      <td>1240.000000</td>\n",
       "      <td>74.000000</td>\n",
       "      <td>24.000000</td>\n",
       "      <td>11.00000</td>\n",
       "      <td>15140.000000</td>\n",
       "      <td>81.000000</td>\n",
       "    </tr>\n",
       "    <tr>\n",
       "      <th>50%</th>\n",
       "      <td>1285.000000</td>\n",
       "      <td>81.000000</td>\n",
       "      <td>36.000000</td>\n",
       "      <td>12.00000</td>\n",
       "      <td>27553.000000</td>\n",
       "      <td>90.000000</td>\n",
       "    </tr>\n",
       "    <tr>\n",
       "      <th>75%</th>\n",
       "      <td>1340.000000</td>\n",
       "      <td>90.000000</td>\n",
       "      <td>50.000000</td>\n",
       "      <td>14.00000</td>\n",
       "      <td>34870.000000</td>\n",
       "      <td>94.000000</td>\n",
       "    </tr>\n",
       "    <tr>\n",
       "      <th>max</th>\n",
       "      <td>1415.000000</td>\n",
       "      <td>100.000000</td>\n",
       "      <td>90.000000</td>\n",
       "      <td>25.00000</td>\n",
       "      <td>63575.000000</td>\n",
       "      <td>97.000000</td>\n",
       "    </tr>\n",
       "  </tbody>\n",
       "</table>\n",
       "</div>"
      ],
      "text/plain": [
       "               SAT       Top10     Accept   SFRatio      Expenses   GradRate\n",
       "count    25.000000   25.000000  25.000000  25.00000     25.000000  25.000000\n",
       "mean   1266.440000   76.480000  39.200000  12.72000  27388.000000  86.720000\n",
       "std     108.359771   19.433905  19.727308   4.06735  14424.883165   9.057778\n",
       "min    1005.000000   28.000000  14.000000   6.00000   8704.000000  67.000000\n",
       "25%    1240.000000   74.000000  24.000000  11.00000  15140.000000  81.000000\n",
       "50%    1285.000000   81.000000  36.000000  12.00000  27553.000000  90.000000\n",
       "75%    1340.000000   90.000000  50.000000  14.00000  34870.000000  94.000000\n",
       "max    1415.000000  100.000000  90.000000  25.00000  63575.000000  97.000000"
      ]
     },
     "execution_count": 15,
     "metadata": {},
     "output_type": "execute_result"
    }
   ],
   "source": [
    "data1.describe()"
   ]
  },
  {
   "cell_type": "code",
   "execution_count": 16,
   "id": "a5edb249-01cf-46ad-8ed1-f7b503f398ab",
   "metadata": {},
   "outputs": [
    {
     "data": {
      "text/plain": [
       "Univ        0\n",
       "SAT         0\n",
       "Top10       0\n",
       "Accept      0\n",
       "SFRatio     0\n",
       "Expenses    0\n",
       "GradRate    0\n",
       "dtype: int64"
      ]
     },
     "execution_count": 16,
     "metadata": {},
     "output_type": "execute_result"
    }
   ],
   "source": [
    "data1.isnull().sum()"
   ]
  },
  {
   "cell_type": "code",
   "execution_count": 17,
   "id": "d42f692e-a712-4a41-aa36-8af9ca74e414",
   "metadata": {},
   "outputs": [
    {
     "data": {
      "text/plain": [
       "Univ        object\n",
       "SAT          int64\n",
       "Top10        int64\n",
       "Accept       int64\n",
       "SFRatio      int64\n",
       "Expenses     int64\n",
       "GradRate     int64\n",
       "dtype: object"
      ]
     },
     "execution_count": 17,
     "metadata": {},
     "output_type": "execute_result"
    }
   ],
   "source": [
    "data1.dtypes"
   ]
  },
  {
   "cell_type": "markdown",
   "id": "4d2c2185-b8e6-4c6c-bace-35a1a35d4320",
   "metadata": {},
   "source": [
    "### Handlinng Duplicated value"
   ]
  },
  {
   "cell_type": "code",
   "execution_count": 35,
   "id": "14099594-09e0-4ad6-9fa4-7661af2d5301",
   "metadata": {},
   "outputs": [
    {
     "name": "stdout",
     "output_type": "stream",
     "text": [
      "    EEID     Name Gender   Salary\n",
      "0  EMP01   ayushi      F      NaN\n",
      "1  EMP02    rohit      M  25000.0\n",
      "2  EMP03  pranjli    NaN  27000.0\n",
      "3  EMP01   ayushi      F  27000.0\n",
      "4  EMP05      NaN      M  20000.0\n",
      "5  EMP06    rohit      M  25000.0\n"
     ]
    }
   ],
   "source": [
    "df = pd.read_excel(\"D:/Data Science Doument  ExcelR/Data Sets/company.xlsx\")\n",
    "print(df)"
   ]
  },
  {
   "cell_type": "code",
   "execution_count": 37,
   "id": "c2ef8cf3-4ef0-451c-b23b-beaa22592c02",
   "metadata": {},
   "outputs": [
    {
     "name": "stdout",
     "output_type": "stream",
     "text": [
      "1\n"
     ]
    }
   ],
   "source": [
    "print(df[\"EEID\"].duplicated().sum())"
   ]
  },
  {
   "cell_type": "code",
   "execution_count": 39,
   "id": "98579755-c64c-4318-9e05-9abf2d3d3b06",
   "metadata": {},
   "outputs": [
    {
     "name": "stdout",
     "output_type": "stream",
     "text": [
      "    EEID     Name Gender   Salary\n",
      "0  EMP01   ayushi      F      NaN\n",
      "1  EMP02    rohit      M  25000.0\n",
      "2  EMP03  pranjli    NaN  27000.0\n",
      "4  EMP05      NaN      M  20000.0\n",
      "5  EMP06    rohit      M  25000.0\n"
     ]
    }
   ],
   "source": [
    "print(df.drop_duplicates(\"EEID\"))"
   ]
  },
  {
   "cell_type": "markdown",
   "id": "f0367b1a-cd5a-44b6-a6b3-16e6eff58a7e",
   "metadata": {},
   "source": [
    "## working with Missing Data in pandas"
   ]
  },
  {
   "cell_type": "code",
   "execution_count": 54,
   "id": "1f27ab34-d211-4b74-9e57-2f8972d72cf9",
   "metadata": {},
   "outputs": [
    {
     "name": "stdout",
     "output_type": "stream",
     "text": [
      "    EEID     Name Gender   Salary\n",
      "0  EMP01   ayushi      F      NaN\n",
      "1  EMP02    rohit      M  25000.0\n",
      "2  EMP03  pranjli    NaN  27000.0\n",
      "3  EMP01   ayushi      F  27000.0\n",
      "4  EMP05      NaN      M  20000.0\n",
      "5  EMP06    rohit      M  25000.0\n"
     ]
    }
   ],
   "source": [
    "data = pd.read_excel(\"D:/Data Science Doument  ExcelR/Data Sets/company.xlsx\")\n",
    "print(data)"
   ]
  },
  {
   "cell_type": "code",
   "execution_count": 56,
   "id": "e6225bc6-0cc1-449b-a039-c99c12d73c0e",
   "metadata": {},
   "outputs": [
    {
     "name": "stdout",
     "output_type": "stream",
     "text": [
      "EEID      0\n",
      "Name      1\n",
      "Gender    1\n",
      "Salary    1\n",
      "dtype: int64\n"
     ]
    }
   ],
   "source": [
    "print(data.isnull().sum())\n"
   ]
  },
  {
   "cell_type": "code",
   "execution_count": 60,
   "id": "9b1fbadc-6ccb-45fc-9e77-9a66597a9e20",
   "metadata": {},
   "outputs": [
    {
     "name": "stdout",
     "output_type": "stream",
     "text": [
      "    EEID    Name Gender   Salary\n",
      "1  EMP02   rohit      M  25000.0\n",
      "3  EMP01  ayushi      F  27000.0\n",
      "5  EMP06   rohit      M  25000.0\n"
     ]
    }
   ],
   "source": [
    "print(data.dropna())"
   ]
  },
  {
   "cell_type": "code",
   "execution_count": 62,
   "id": "1f4a17a3-2804-45c9-b3c0-3b5b5a713b87",
   "metadata": {},
   "outputs": [
    {
     "name": "stdout",
     "output_type": "stream",
     "text": [
      "    EEID     Name Gender   Salary\n",
      "0  EMP01   ayushi      F      NaN\n",
      "1  EMP02    rohit      M  25000.0\n",
      "2  EMP03  pranjli    NaN  27000.0\n",
      "3  EMP01   ayushi      F  27000.0\n",
      "4  EMP05      NaN      M  20000.0\n",
      "5  EMP06    rohit      M  25000.0\n"
     ]
    }
   ],
   "source": [
    "print(data)"
   ]
  },
  {
   "cell_type": "code",
   "execution_count": 66,
   "id": "ec3637c4-4a77-4b42-aacb-a454d16e0b50",
   "metadata": {},
   "outputs": [
    {
     "name": "stdout",
     "output_type": "stream",
     "text": [
      "    EEID     Name Gender   Salary\n",
      "0  EMP01   ayushi      F       hi\n",
      "1  EMP02    rohit      M  25000.0\n",
      "2  EMP03  pranjli     hi  27000.0\n",
      "3  EMP01   ayushi      F  27000.0\n",
      "4  EMP05       hi      M  20000.0\n",
      "5  EMP06    rohit      M  25000.0\n"
     ]
    }
   ],
   "source": [
    "import numpy as np\n",
    "print(data.replace(np.nan,'hi'))"
   ]
  },
  {
   "cell_type": "code",
   "execution_count": 80,
   "id": "c536ecce-c9a8-46ff-8e39-9a7d5975ffc5",
   "metadata": {},
   "outputs": [
    {
     "name": "stdout",
     "output_type": "stream",
     "text": [
      "    EEID     Name Gender   Salary\n",
      "0  EMP01   ayushi      F  24800.0\n",
      "1  EMP02    rohit      M  25000.0\n",
      "2  EMP03  pranjli    NaN  27000.0\n",
      "3  EMP01   ayushi      F  27000.0\n",
      "4  EMP05      NaN      M  20000.0\n",
      "5  EMP06    rohit      M  25000.0\n"
     ]
    }
   ],
   "source": [
    "data[\"Salary\"] = data[\"Salary\"].replace(np.nan,24800.0)\n",
    "print(data)"
   ]
  },
  {
   "cell_type": "code",
   "execution_count": 74,
   "id": "809a4fad-1384-4ae3-bd40-5e21e4bf5448",
   "metadata": {},
   "outputs": [
    {
     "name": "stdout",
     "output_type": "stream",
     "text": [
      "    EEID     Name Gender   Salary\n",
      "0  EMP01   ayushi      F  30000.0\n",
      "1  EMP02    rohit      M  25000.0\n",
      "2  EMP03  pranjli    NaN  27000.0\n",
      "3  EMP01   ayushi      F  27000.0\n",
      "4  EMP05      NaN      M  20000.0\n",
      "5  EMP06    rohit      M  25000.0\n"
     ]
    }
   ],
   "source": [
    "print(data)"
   ]
  },
  {
   "cell_type": "code",
   "execution_count": 86,
   "id": "8d9e3253-665d-4b75-831e-0d2793aec646",
   "metadata": {},
   "outputs": [
    {
     "name": "stdout",
     "output_type": "stream",
     "text": [
      "    EEID     Name Gender   Salary\n",
      "0  EMP01   ayushi      F      NaN\n",
      "1  EMP02    rohit      M  25000.0\n",
      "2  EMP03  pranjli    NaN  27000.0\n",
      "3  EMP01   ayushi      F  27000.0\n",
      "4  EMP05      NaN      M  20000.0\n",
      "5  EMP06    rohit      M  25000.0\n"
     ]
    }
   ],
   "source": [
    "data = pd.read_excel(\"D:/Data Science Doument  ExcelR/Data Sets/company.xlsx\")\n",
    "print(data)"
   ]
  },
  {
   "cell_type": "code",
   "execution_count": 78,
   "id": "9f4c6934-3a31-4da1-9afc-5f5a5db71e5d",
   "metadata": {},
   "outputs": [
    {
     "name": "stdout",
     "output_type": "stream",
     "text": [
      "24800.0\n"
     ]
    }
   ],
   "source": [
    "print(data['Salary'].mean())"
   ]
  },
  {
   "cell_type": "code",
   "execution_count": 82,
   "id": "cfebcefb-123b-4b50-9614-cd648b977b58",
   "metadata": {},
   "outputs": [
    {
     "name": "stdout",
     "output_type": "stream",
     "text": [
      "    EEID     Name Gender   Salary\n",
      "0  EMP01   ayushi      F  24800.0\n",
      "1  EMP02    rohit      M  25000.0\n",
      "2  EMP03  pranjli    NaN  27000.0\n",
      "3  EMP01   ayushi      F  27000.0\n",
      "4  EMP05      NaN      M  20000.0\n",
      "5  EMP06    rohit      M  25000.0\n"
     ]
    }
   ],
   "source": [
    "data[\"Salary\"] = data[\"Salary\"].replace(np.nan,24800.0)\n",
    "print(data)"
   ]
  },
  {
   "cell_type": "code",
   "execution_count": 84,
   "id": "143801ae-a069-42a6-914f-7073782203a6",
   "metadata": {},
   "outputs": [
    {
     "name": "stdout",
     "output_type": "stream",
     "text": [
      "24800.0\n"
     ]
    }
   ],
   "source": [
    "print(data['Salary'].mean())"
   ]
  },
  {
   "cell_type": "code",
   "execution_count": 90,
   "id": "b7b5851e-b431-435e-8abd-3a728599ae09",
   "metadata": {},
   "outputs": [
    {
     "name": "stdout",
     "output_type": "stream",
     "text": [
      "    EEID     Name Gender   Salary\n",
      "0  EMP01   ayushi      F  25000.0\n",
      "1  EMP02    rohit      M  25000.0\n",
      "2  EMP03  pranjli      F  27000.0\n",
      "3  EMP01   ayushi      F  27000.0\n",
      "4  EMP05    rohit      M  20000.0\n",
      "5  EMP06    rohit      M  25000.0\n"
     ]
    },
    {
     "name": "stderr",
     "output_type": "stream",
     "text": [
      "C:\\Users\\Lenovo\\AppData\\Local\\Temp\\ipykernel_15416\\2754045057.py:1: FutureWarning: DataFrame.fillna with 'method' is deprecated and will raise in a future version. Use obj.ffill() or obj.bfill() instead.\n",
      "  print(data.fillna(method = \"bfill\"))\n"
     ]
    }
   ],
   "source": [
    "print(data.fillna(method = \"bfill\"))"
   ]
  },
  {
   "cell_type": "code",
   "execution_count": 92,
   "id": "a5cd04d5-6c1a-4d26-b593-0209bfd4f0c7",
   "metadata": {},
   "outputs": [
    {
     "name": "stdout",
     "output_type": "stream",
     "text": [
      "    EEID     Name Gender   Salary\n",
      "0  EMP01   ayushi      F      NaN\n",
      "1  EMP02    rohit      M  25000.0\n",
      "2  EMP03  pranjli      M  27000.0\n",
      "3  EMP01   ayushi      F  27000.0\n",
      "4  EMP05   ayushi      M  20000.0\n",
      "5  EMP06    rohit      M  25000.0\n"
     ]
    },
    {
     "name": "stderr",
     "output_type": "stream",
     "text": [
      "C:\\Users\\Lenovo\\AppData\\Local\\Temp\\ipykernel_15416\\1391920301.py:1: FutureWarning: DataFrame.fillna with 'method' is deprecated and will raise in a future version. Use obj.ffill() or obj.bfill() instead.\n",
      "  print(data.fillna(method = \"ffill\"))\n"
     ]
    }
   ],
   "source": [
    "print(data.fillna(method = \"ffill\"))"
   ]
  },
  {
   "cell_type": "code",
   "execution_count": 96,
   "id": "f7da3045-b193-4b1a-8f39-7040aef4252c",
   "metadata": {},
   "outputs": [
    {
     "name": "stdout",
     "output_type": "stream",
     "text": [
      "    EEID     Name Gender   Salary\n",
      "0  EMP01   ayushi      F      hii\n",
      "1  EMP02    rohit      M  25000.0\n",
      "2  EMP03  pranjli    hii  27000.0\n",
      "3  EMP01   ayushi      F  27000.0\n",
      "4  EMP05      hii      M  20000.0\n",
      "5  EMP06    rohit      M  25000.0\n"
     ]
    }
   ],
   "source": [
    "print(data.fillna(\"hii\"))"
   ]
  },
  {
   "cell_type": "markdown",
   "id": "8374f26a-aded-467d-a787-9e1f644bdbc6",
   "metadata": {},
   "source": [
    "### columns transforation in pandas part 1"
   ]
  },
  {
   "cell_type": "code",
   "execution_count": 107,
   "id": "1fe787bf-3195-424f-baea-92edd7e373ab",
   "metadata": {},
   "outputs": [
    {
     "name": "stdout",
     "output_type": "stream",
     "text": [
      "                       Country  Year   Rank  Total  S1: Demographic Pressures  \\\n",
      "0                      Somalia  2023    1st  111.9                       10.0   \n",
      "1                        Yemen  2023    2nd  108.9                        9.6   \n",
      "2                  South Sudan  2023    3rd  108.5                        9.7   \n",
      "3    Congo Democratic Republic  2023    4th  107.2                        9.7   \n",
      "4                        Syria  2023    5th  107.1                        7.4   \n",
      "..                         ...   ...    ...    ...                        ...   \n",
      "174                Switzerland  2023  175th   17.8                        2.4   \n",
      "175                New Zealand  2023  176th   16.7                        1.1   \n",
      "176                    Finland  2023  177th   16.0                        1.7   \n",
      "177                    Iceland  2023  178th   15.7                        1.5   \n",
      "178                     Norway  2023  179th   14.5                        1.4   \n",
      "\n",
      "     S2: Refugees and IDPs  C3: Group Grievance  \\\n",
      "0                      9.0                  8.7   \n",
      "1                      9.6                  8.8   \n",
      "2                     10.0                  8.6   \n",
      "3                      9.8                  9.4   \n",
      "4                      9.1                  9.1   \n",
      "..                     ...                  ...   \n",
      "174                    3.2                  2.1   \n",
      "175                    1.2                  2.0   \n",
      "176                    1.9                  0.3   \n",
      "177                    1.5                  0.5   \n",
      "178                    1.7                  3.1   \n",
      "\n",
      "     E3: Human Flight and Brain Drain  E2: Economic Inequality  E1: Economy  \\\n",
      "0                                 8.6                      9.1          9.5   \n",
      "1                                 6.4                      7.9          9.9   \n",
      "2                                 6.5                      8.6          8.6   \n",
      "3                                 6.4                      8.4          8.1   \n",
      "4                                 8.0                      6.5          9.6   \n",
      "..                                ...                      ...          ...   \n",
      "174                               1.0                      2.4          1.6   \n",
      "175                               1.6                      2.6          2.6   \n",
      "176                               1.5                      1.6          2.7   \n",
      "177                               1.6                      1.5          2.6   \n",
      "178                               0.7                      1.4          1.4   \n",
      "\n",
      "     P1: State Legitimacy  P2: Public Services  P3: Human Rights  \\\n",
      "0                     9.6                  9.8               9.0   \n",
      "1                     9.8                  9.6               9.6   \n",
      "2                     9.8                  9.7               8.7   \n",
      "3                     9.3                  9.3               9.3   \n",
      "4                    10.0                  9.0               9.1   \n",
      "..                    ...                  ...               ...   \n",
      "174                   0.3                  1.6               0.4   \n",
      "175                   0.5                  1.1               0.5   \n",
      "176                   0.4                  1.0               0.5   \n",
      "177                   0.4                  0.9               0.4   \n",
      "178                   0.4                  1.0               0.4   \n",
      "\n",
      "     C1: Security Apparatus  C2: Factionalized Elites  \\\n",
      "0                       9.5                      10.0   \n",
      "1                       8.6                       9.9   \n",
      "2                       9.9                       9.2   \n",
      "3                       8.8                       9.6   \n",
      "4                       9.4                       9.9   \n",
      "..                      ...                       ...   \n",
      "174                     1.4                       1.0   \n",
      "175                     1.6                       1.4   \n",
      "176                     2.0                       1.4   \n",
      "177                     0.4                       1.8   \n",
      "178                     1.4                       1.1   \n",
      "\n",
      "     X1: External Intervention  \n",
      "0                          9.1  \n",
      "1                          9.2  \n",
      "2                          9.2  \n",
      "3                          9.1  \n",
      "4                         10.0  \n",
      "..                         ...  \n",
      "174                        0.4  \n",
      "175                        0.5  \n",
      "176                        1.0  \n",
      "177                        2.6  \n",
      "178                        0.5  \n",
      "\n",
      "[179 rows x 16 columns]\n"
     ]
    }
   ],
   "source": [
    "data1= pd.read_excel(\"C:/Users/Lenovo/OneDrive/Desktop/python data analytics/sample_data.xlsx\")\n",
    "print(data1)"
   ]
  },
  {
   "cell_type": "code",
   "execution_count": 115,
   "id": "ba6a24e1-2326-4c39-bb85-7d4bd4fa9eb4",
   "metadata": {},
   "outputs": [
    {
     "name": "stdout",
     "output_type": "stream",
     "text": [
      "    EEID     Name    Age  Salary Gender\n",
      "0  EMP01   Chetan     21   20000      M\n",
      "1  EMP02   Aakash     20   23000      M\n",
      "2  EMP03  Darshan     23   20000    NaN\n",
      "3  EMP01   Lokesh     25   15000      M\n",
      "4  EMP05     Yash     24   20000    NaN\n",
      "5  EMP06   Sakshi     18   50000      F\n",
      "6  EMP07   Chetan     21   20000      M\n",
      "7  EMP08   Aakash     21   25000    NaN\n",
      "8  EMP09   Lokesh     25    5000      M\n",
      "\n"
     ]
    }
   ],
   "source": [
    "df = pd.read_csv(\"C:/Users/Lenovo/OneDrive/Desktop/python data analytics/customer.csv\")\n",
    "print(df)\n",
    "print()"
   ]
  },
  {
   "cell_type": "code",
   "execution_count": 123,
   "id": "96588e45-2dcf-41f6-9f64-fe99a5f706b4",
   "metadata": {},
   "outputs": [
    {
     "name": "stdout",
     "output_type": "stream",
     "text": [
      "    EEID     Name    Age  Salary Gender             Salary GorB\n",
      "0  EMP01   Chetan     21   20000      M    Greate Salary Pakage\n",
      "1  EMP02   Aakash     20   23000      M  Greatest Salary Pakage\n",
      "2  EMP03  Darshan     23   20000    NaN    Greate Salary Pakage\n",
      "3  EMP01   Lokesh     25   15000      M      Good Salary Pakage\n",
      "4  EMP05     Yash     24   20000    NaN    Greate Salary Pakage\n",
      "5  EMP06   Sakshi     18   50000      F  Greatest Salary Pakage\n",
      "6  EMP07   Chetan     21   20000      M    Greate Salary Pakage\n",
      "7  EMP08   Aakash     21   25000    NaN  Greatest Salary Pakage\n",
      "8  EMP09   Lokesh     25    5000      M      Good Salary Pakage\n"
     ]
    }
   ],
   "source": [
    "df.loc[(df[\"Salary\"] < 20000),\"Salary GorB\"] = \"Good Salary Pakage\"\n",
    "df.loc[(df[\"Salary\"] == 20000),\"Salary GorB\"] = \"Greate Salary Pakage\"\n",
    "df.loc[(df[\"Salary\"] > 20000),\"Salary GorB\"] = \"Greatest Salary Pakage\"\n",
    "print(df)"
   ]
  },
  {
   "cell_type": "code",
   "execution_count": 127,
   "id": "2f566890-cb17-4d58-aa53-9ab61fc8511a",
   "metadata": {},
   "outputs": [
    {
     "name": "stdout",
     "output_type": "stream",
     "text": [
      "Greate Salary Pakage 4\n"
     ]
    }
   ],
   "source": [
    "count = df[df[\"Salary GorB\"] == \"Greate Salary Pakage\"].shape[0]\n",
    "print(\"Greate Salary Pakage\",count)"
   ]
  },
  {
   "cell_type": "code",
   "execution_count": 135,
   "id": "54cab2e9-3c0b-4229-ab96-03880c62b5de",
   "metadata": {},
   "outputs": [
    {
     "data": {
      "text/plain": [
       "3"
      ]
     },
     "execution_count": 135,
     "metadata": {},
     "output_type": "execute_result"
    }
   ],
   "source": [
    "df[\"Salary GorB\"].value_counts()[\"Greatest Salary Pakage\"] "
   ]
  },
  {
   "cell_type": "code",
   "execution_count": 137,
   "id": "2f0abef9-19e7-44e4-93f2-cf4395c30924",
   "metadata": {},
   "outputs": [
    {
     "name": "stdout",
     "output_type": "stream",
     "text": [
      "  First_Name  Last_Name  Salary EEID\n",
      "0     Chetan       Wagh   20000   E1\n",
      "1     Aakash  Chaudhari   40000   E2\n",
      "2    Darshan      Dalvi   25000   E7\n",
      "3     Lokesh      Bhoge   60000   E8\n",
      "4       Yash    Mahajan   33000   E4\n",
      "5     Ganesh      Patil   45000   E5\n"
     ]
    }
   ],
   "source": [
    "data = pd.read_excel(\"C:/Users/Lenovo/OneDrive/Desktop/python data analytics/pratice.xlsx\")\n",
    "print(data)"
   ]
  },
  {
   "cell_type": "code",
   "execution_count": 147,
   "id": "20c36e5d-4773-4404-bc2c-1014403711a5",
   "metadata": {},
   "outputs": [
    {
     "name": "stdout",
     "output_type": "stream",
     "text": [
      "  First_Name  Last_Name  Salary EEID         Full Name\n",
      "0     Chetan       Wagh   20000   E1       Chetan Wagh\n",
      "1     Aakash  Chaudhari   40000   E2  Aakash Chaudhari\n",
      "2    Darshan      Dalvi   25000   E7     Darshan Dalvi\n",
      "3     Lokesh      Bhoge   60000   E8      Lokesh Bhoge\n",
      "4       Yash    Mahajan   33000   E4      Yash Mahajan\n",
      "5     Ganesh      Patil   45000   E5      Ganesh Patil\n"
     ]
    }
   ],
   "source": [
    "data[\"Full Name\"] = data[\"First_Name\"].str.capitalize() + \" \" + data[\"Last_Name\"].str.capitalize()\n",
    "print(data)"
   ]
  },
  {
   "cell_type": "markdown",
   "id": "8bd4ba7f-79e4-42e5-a6a5-f4180f6ef733",
   "metadata": {},
   "source": [
    "## columns transforation in pandas part 1"
   ]
  },
  {
   "cell_type": "code",
   "execution_count": 150,
   "id": "5be7a301-10da-4b92-b739-dc689e6583db",
   "metadata": {},
   "outputs": [
    {
     "name": "stdout",
     "output_type": "stream",
     "text": [
      "  First_Name  Last_Name  Salary EEID\n",
      "0     Chetan       Wagh   20000   E1\n",
      "1     Aakash  Chaudhari   40000   E2\n",
      "2    Darshan      Dalvi   25000   E7\n",
      "3     Lokesh      Bhoge   60000   E8\n",
      "4       Yash    Mahajan   33000   E4\n",
      "5     Ganesh      Patil   45000   E5\n"
     ]
    }
   ],
   "source": [
    "data = pd.read_excel(\"C:/Users/Lenovo/OneDrive/Desktop/python data analytics/pratice.xlsx\")\n",
    "print(data)"
   ]
  },
  {
   "cell_type": "code",
   "execution_count": 152,
   "id": "491deb57-e8c5-4531-9802-c6b60d01237f",
   "metadata": {},
   "outputs": [
    {
     "name": "stdout",
     "output_type": "stream",
     "text": [
      "  First_Name  Last_Name  Salary EEID    Bonus\n",
      "0     Chetan       Wagh   20000   E1   4000.0\n",
      "1     Aakash  Chaudhari   40000   E2   8000.0\n",
      "2    Darshan      Dalvi   25000   E7   5000.0\n",
      "3     Lokesh      Bhoge   60000   E8  12000.0\n",
      "4       Yash    Mahajan   33000   E4   6600.0\n",
      "5     Ganesh      Patil   45000   E5   9000.0\n"
     ]
    }
   ],
   "source": [
    "data[\"Bonus\"] = (data[\"Salary\"]/100)*20\n",
    "print(data)"
   ]
  },
  {
   "cell_type": "code",
   "execution_count": 7,
   "id": "8d657067-20b9-43a7-a7b5-6654b8bbff4c",
   "metadata": {},
   "outputs": [
    {
     "name": "stdout",
     "output_type": "stream",
     "text": [
      "    Months\n",
      "0  January\n",
      "1  Feburay\n",
      "2    March\n",
      "3    April\n",
      "    Months shorts_monts\n",
      "0  January          Jan\n",
      "1  Feburay          Feb\n",
      "2    March          Mar\n",
      "3    April          Apr\n"
     ]
    }
   ],
   "source": [
    "data1 = {'Months': ['January','Feburay','March','April']}\n",
    "    \n",
    "a = pd.DataFrame(data1)\n",
    "print(a)\n",
    "\n",
    "def extract(value):\n",
    "    return value[0:3]\n",
    "\n",
    "a['shorts_monts'] = a[\"Months\"].map(extract)\n",
    "print(a)"
   ]
  },
  {
   "cell_type": "code",
   "execution_count": 9,
   "id": "9d9b052e-8b38-4be3-b5d0-fde288347b33",
   "metadata": {},
   "outputs": [
    {
     "name": "stdout",
     "output_type": "stream",
     "text": [
      "                       Country  Year   Rank  Total  S1: Demographic Pressures  \\\n",
      "0                      Somalia  2023    1st  111.9                       10.0   \n",
      "1                        Yemen  2023    2nd  108.9                        9.6   \n",
      "2                  South Sudan  2023    3rd  108.5                        9.7   \n",
      "3    Congo Democratic Republic  2023    4th  107.2                        9.7   \n",
      "4                        Syria  2023    5th  107.1                        7.4   \n",
      "..                         ...   ...    ...    ...                        ...   \n",
      "174                Switzerland  2023  175th   17.8                        2.4   \n",
      "175                New Zealand  2023  176th   16.7                        1.1   \n",
      "176                    Finland  2023  177th   16.0                        1.7   \n",
      "177                    Iceland  2023  178th   15.7                        1.5   \n",
      "178                     Norway  2023  179th   14.5                        1.4   \n",
      "\n",
      "     S2: Refugees and IDPs  C3: Group Grievance  \\\n",
      "0                      9.0                  8.7   \n",
      "1                      9.6                  8.8   \n",
      "2                     10.0                  8.6   \n",
      "3                      9.8                  9.4   \n",
      "4                      9.1                  9.1   \n",
      "..                     ...                  ...   \n",
      "174                    3.2                  2.1   \n",
      "175                    1.2                  2.0   \n",
      "176                    1.9                  0.3   \n",
      "177                    1.5                  0.5   \n",
      "178                    1.7                  3.1   \n",
      "\n",
      "     E3: Human Flight and Brain Drain  E2: Economic Inequality  E1: Economy  \\\n",
      "0                                 8.6                      9.1          9.5   \n",
      "1                                 6.4                      7.9          9.9   \n",
      "2                                 6.5                      8.6          8.6   \n",
      "3                                 6.4                      8.4          8.1   \n",
      "4                                 8.0                      6.5          9.6   \n",
      "..                                ...                      ...          ...   \n",
      "174                               1.0                      2.4          1.6   \n",
      "175                               1.6                      2.6          2.6   \n",
      "176                               1.5                      1.6          2.7   \n",
      "177                               1.6                      1.5          2.6   \n",
      "178                               0.7                      1.4          1.4   \n",
      "\n",
      "     P1: State Legitimacy  P2: Public Services  P3: Human Rights  \\\n",
      "0                     9.6                  9.8               9.0   \n",
      "1                     9.8                  9.6               9.6   \n",
      "2                     9.8                  9.7               8.7   \n",
      "3                     9.3                  9.3               9.3   \n",
      "4                    10.0                  9.0               9.1   \n",
      "..                    ...                  ...               ...   \n",
      "174                   0.3                  1.6               0.4   \n",
      "175                   0.5                  1.1               0.5   \n",
      "176                   0.4                  1.0               0.5   \n",
      "177                   0.4                  0.9               0.4   \n",
      "178                   0.4                  1.0               0.4   \n",
      "\n",
      "     C1: Security Apparatus  C2: Factionalized Elites  \\\n",
      "0                       9.5                      10.0   \n",
      "1                       8.6                       9.9   \n",
      "2                       9.9                       9.2   \n",
      "3                       8.8                       9.6   \n",
      "4                       9.4                       9.9   \n",
      "..                      ...                       ...   \n",
      "174                     1.4                       1.0   \n",
      "175                     1.6                       1.4   \n",
      "176                     2.0                       1.4   \n",
      "177                     0.4                       1.8   \n",
      "178                     1.4                       1.1   \n",
      "\n",
      "     X1: External Intervention  \n",
      "0                          9.1  \n",
      "1                          9.2  \n",
      "2                          9.2  \n",
      "3                          9.1  \n",
      "4                         10.0  \n",
      "..                         ...  \n",
      "174                        0.4  \n",
      "175                        0.5  \n",
      "176                        1.0  \n",
      "177                        2.6  \n",
      "178                        0.5  \n",
      "\n",
      "[179 rows x 16 columns]\n"
     ]
    }
   ],
   "source": [
    "data = pd.read_excel(\"C:/Users/Lenovo/OneDrive/Desktop/python data analytics/sample_data.xlsx\")\n",
    "print(data)"
   ]
  },
  {
   "cell_type": "code",
   "execution_count": 19,
   "id": "19136969-1086-48f0-a072-9deb07580ffa",
   "metadata": {},
   "outputs": [
    {
     "name": "stdout",
     "output_type": "stream",
     "text": [
      "                          Rank\n",
      "Country             Year      \n",
      "Afghanistan         2023     1\n",
      "Albania             2023     1\n",
      "Algeria             2023     1\n",
      "Angola              2023     1\n",
      "Antigua and Barbuda 2023     1\n",
      "...                        ...\n",
      "Venezuela           2023     1\n",
      "Vietnam             2023     1\n",
      "Yemen               2023     1\n",
      "Zambia              2023     1\n",
      "Zimbabwe            2023     1\n",
      "\n",
      "[179 rows x 1 columns]\n",
      "                          Rank\n",
      "Country             Year      \n",
      "Afghanistan         2023     1\n",
      "Albania             2023     1\n",
      "Algeria             2023     1\n",
      "Angola              2023     1\n",
      "Antigua and Barbuda 2023     1\n",
      "Argentina           2023     1\n",
      "Armenia             2023     1\n",
      "Australia           2023     1\n",
      "Austria             2023     1\n",
      "Azerbaijan          2023     1\n",
      "                           Rank\n",
      "Country              Year      \n",
      "United Arab Emirates 2023     1\n",
      "United Kingdom       2023     1\n",
      "United States        2023     1\n",
      "Uruguay              2023     1\n",
      "Uzbekistan           2023     1\n",
      "Venezuela            2023     1\n",
      "Vietnam              2023     1\n",
      "Yemen                2023     1\n",
      "Zambia               2023     1\n",
      "Zimbabwe             2023     1\n"
     ]
    }
   ],
   "source": [
    "gr = data.groupby([\"Country\",\"Year\"]).agg({\"Rank\":\"count\"})\n",
    "print(gr)\n",
    "print(gr.head(10))\n",
    "print(gr.tail(10))"
   ]
  },
  {
   "cell_type": "code",
   "execution_count": 23,
   "id": "a676bf03-1b75-46e0-b677-d5b243379adf",
   "metadata": {},
   "outputs": [
    {
     "name": "stdout",
     "output_type": "stream",
     "text": [
      "       Year\n",
      "Rank       \n",
      "100th     1\n",
      "101st     1\n",
      "102nd     1\n",
      "103rd     1\n",
      "104th     1\n",
      "...     ...\n",
      "96th      1\n",
      "97th      1\n",
      "98th      1\n",
      "99th      1\n",
      "9th       1\n",
      "\n",
      "[179 rows x 1 columns]\n"
     ]
    }
   ],
   "source": [
    "gr1 = data.groupby(\"Rank\").agg({\"Year\":\"count\"})\n",
    "print(gr1)"
   ]
  },
  {
   "cell_type": "code",
   "execution_count": 25,
   "id": "15e95d4e-77a9-4413-84b2-5829ce3f736a",
   "metadata": {},
   "outputs": [
    {
     "name": "stdout",
     "output_type": "stream",
     "text": [
      "                     Total\n",
      "Country                   \n",
      "Afghanistan          106.6\n",
      "Albania               56.8\n",
      "Algeria               70.0\n",
      "Angola                86.9\n",
      "Antigua and Barbuda   53.8\n",
      "...                    ...\n",
      "Venezuela             90.5\n",
      "Vietnam               58.3\n",
      "Yemen                108.9\n",
      "Zambia                81.8\n",
      "Zimbabwe              96.9\n",
      "\n",
      "[179 rows x 1 columns]\n",
      "                     Total\n",
      "Country                   \n",
      "Afghanistan          106.6\n",
      "Albania               56.8\n",
      "Algeria               70.0\n",
      "Angola                86.9\n",
      "Antigua and Barbuda   53.8\n",
      "Argentina             46.4\n",
      "Armenia               67.5\n",
      "Australia             22.0\n",
      "Austria               24.4\n",
      "Azerbaijan            72.7\n",
      "                      Total\n",
      "Country                    \n",
      "United Arab Emirates   37.0\n",
      "United Kingdom         41.9\n",
      "United States          45.3\n",
      "Uruguay                34.4\n",
      "Uzbekistan             66.8\n",
      "Venezuela              90.5\n",
      "Vietnam                58.3\n",
      "Yemen                 108.9\n",
      "Zambia                 81.8\n",
      "Zimbabwe               96.9\n"
     ]
    }
   ],
   "source": [
    "gr2 = data.groupby(\"Country\").agg({\"Total\":\"mean\"})\n",
    "print(gr2)\n",
    "\n",
    "print(gr2.head(10))\n",
    "print(gr2.tail(10))\n"
   ]
  },
  {
   "cell_type": "code",
   "execution_count": 27,
   "id": "f05df76e-1b84-49fa-81d5-fefafc40bcaf",
   "metadata": {},
   "outputs": [
    {
     "name": "stdout",
     "output_type": "stream",
     "text": [
      "                     Total\n",
      "Country                   \n",
      "Afghanistan          106.6\n",
      "Albania               56.8\n",
      "Algeria               70.0\n",
      "Angola                86.9\n",
      "Antigua and Barbuda   53.8\n",
      "...                    ...\n",
      "Venezuela             90.5\n",
      "Vietnam               58.3\n",
      "Yemen                108.9\n",
      "Zambia                81.8\n",
      "Zimbabwe              96.9\n",
      "\n",
      "[179 rows x 1 columns]\n"
     ]
    }
   ],
   "source": [
    "gr3 = data.groupby(\"Country\").agg({\"Total\":\"max\"})\n",
    "print(gr3)"
   ]
  },
  {
   "cell_type": "code",
   "execution_count": 29,
   "id": "3a5808fa-55a9-4085-87f6-f776b2d0c53a",
   "metadata": {},
   "outputs": [
    {
     "name": "stdout",
     "output_type": "stream",
     "text": [
      "                     Total\n",
      "Country                   \n",
      "Afghanistan          106.6\n",
      "Albania               56.8\n",
      "Algeria               70.0\n",
      "Angola                86.9\n",
      "Antigua and Barbuda   53.8\n",
      "...                    ...\n",
      "Venezuela             90.5\n",
      "Vietnam               58.3\n",
      "Yemen                108.9\n",
      "Zambia                81.8\n",
      "Zimbabwe              96.9\n",
      "\n",
      "[179 rows x 1 columns]\n"
     ]
    }
   ],
   "source": [
    "gr4 = data.groupby(\"Country\").agg({\"Total\":\"min\"})\n",
    "print(gr4)"
   ]
  },
  {
   "cell_type": "markdown",
   "id": "083f6566-5026-49c8-9a21-1810a9b86653",
   "metadata": {},
   "source": [
    "### merge , join , and concatenate"
   ]
  },
  {
   "cell_type": "code",
   "execution_count": 32,
   "id": "ae70fd50-dc05-473c-b19b-84df12bb9bfd",
   "metadata": {},
   "outputs": [
    {
     "name": "stdout",
     "output_type": "stream",
     "text": [
      "  Emp ID    Name  Age\n",
      "0    E01  Chetan   34\n",
      "1    E02     Ram   56\n",
      "2    E03    Sham   23\n",
      "3    E04   Rahul   44\n",
      "4    E05  Lokesh   32\n",
      "5    E06    Yash   35\n",
      "\n",
      "  Emp ID  Salary\n",
      "0    E01   45000\n",
      "1    E07   32000\n",
      "2    E03   45000\n",
      "3    E08   67000\n",
      "4    E05   34000\n",
      "5    E06   34000\n"
     ]
    }
   ],
   "source": [
    "data1 = {\"Emp ID\":[\"E01\",\"E02\",\"E03\",\"E04\",\"E05\",\"E06\"],\n",
    "        \"Name\": [\"Chetan\",\"Ram\",\"Sham\",\"Rahul\",\"Lokesh\",\"Yash\"],\n",
    "        \"Age\":[34,56,23,44,32,35]}\n",
    "\n",
    "data2 = {\"Emp ID\":[\"E01\",\"E07\",\"E03\",\"E08\",\"E05\",\"E06\"],\n",
    "         \"Salary\":[45000,32000,45000,67000,34000,34000]}\n",
    "df1 = pd.DataFrame(data1)\n",
    "df2 = pd.DataFrame(data2)\n",
    "\n",
    "print(df1)\n",
    "print()\n",
    "print(df2)"
   ]
  },
  {
   "cell_type": "code",
   "execution_count": 40,
   "id": "c478a082-c1bf-4451-bb12-5aa9854af6d2",
   "metadata": {},
   "outputs": [
    {
     "name": "stdout",
     "output_type": "stream",
     "text": [
      "  Emp ID    Name  Age  Salary\n",
      "0    E01  Chetan   34   45000\n",
      "1    E03    Sham   23   45000\n",
      "2    E05  Lokesh   32   34000\n",
      "3    E06    Yash   35   34000\n"
     ]
    }
   ],
   "source": [
    "print(pd.merge(df1,df2 , on  =  \"Emp ID\" ))"
   ]
  },
  {
   "cell_type": "code",
   "execution_count": 42,
   "id": "e8ca258a-6e8f-43e0-9cb6-066d8d16c53b",
   "metadata": {},
   "outputs": [
    {
     "name": "stdout",
     "output_type": "stream",
     "text": [
      "  Emp ID    Name   Age  Salary\n",
      "0    E01  Chetan  34.0   45000\n",
      "1    E07     NaN   NaN   32000\n",
      "2    E03    Sham  23.0   45000\n",
      "3    E08     NaN   NaN   67000\n",
      "4    E05  Lokesh  32.0   34000\n",
      "5    E06    Yash  35.0   34000\n"
     ]
    }
   ],
   "source": [
    "print(pd.merge(left = df1,right = df2, on = \"Emp ID\", how=\"right\"))"
   ]
  },
  {
   "cell_type": "code",
   "execution_count": 44,
   "id": "565d408e-476c-41a5-b674-a5cd43a6c693",
   "metadata": {},
   "outputs": [],
   "source": [
    " import pandas as pd\n",
    "data3 = {\"Emp ID\":[\"E01\",\"E02\",\"E03\",\"E04\",\"E05\",\"E06\"],\n",
    "        \"Name\": [\"Chetan\",\"Ram\",\"Sham\",\"Rahul\",\"Lokesh\",\"Yash\"],\n",
    "        \"Age\":[34,56,23,44,32,35]}\n",
    "data4 = {\"Emp ID\":[\"E07\",\"E08\",\"E09\",\"E10\",\"E11\",\"E13\"],\n",
    "        \"Name\": [\"Bunty\",\"Bubble\",\"Golu\",\"Baiya\",\"Pappu\",\"rathod\"],\n",
    "        \"Age\":[34,54,67,35,23,56]}\n",
    "df3 = pd.DataFrame(data3)\n",
    "df4 = pd.DataFrame(data4)"
   ]
  },
  {
   "cell_type": "code",
   "execution_count": 46,
   "id": "bd74aa80-fdd1-4ad8-95f1-95d417b61354",
   "metadata": {},
   "outputs": [
    {
     "name": "stdout",
     "output_type": "stream",
     "text": [
      "  Emp ID    Name  Age\n",
      "0    E01  Chetan   34\n",
      "1    E02     Ram   56\n",
      "2    E03    Sham   23\n",
      "3    E04   Rahul   44\n",
      "4    E05  Lokesh   32\n",
      "5    E06    Yash   35\n",
      "0    E07   Bunty   34\n",
      "1    E08  Bubble   54\n",
      "2    E09    Golu   67\n",
      "3    E10   Baiya   35\n",
      "4    E11   Pappu   23\n",
      "5    E13  rathod   56\n"
     ]
    }
   ],
   "source": [
    "    print(pd.concat([df3,df4]))"
   ]
  },
  {
   "cell_type": "markdown",
   "id": "1bc5b403-142e-4bb7-b1be-b26be7a1f9f1",
   "metadata": {},
   "source": [
    "### pandas compare dataframe"
   ]
  },
  {
   "cell_type": "code",
   "execution_count": 75,
   "id": "849af8f1-843d-42d8-bce0-b707cb24d811",
   "metadata": {},
   "outputs": [
    {
     "data": {
      "text/html": [
       "<div>\n",
       "<style scoped>\n",
       "    .dataframe tbody tr th:only-of-type {\n",
       "        vertical-align: middle;\n",
       "    }\n",
       "\n",
       "    .dataframe tbody tr th {\n",
       "        vertical-align: top;\n",
       "    }\n",
       "\n",
       "    .dataframe thead th {\n",
       "        text-align: right;\n",
       "    }\n",
       "</style>\n",
       "<table border=\"1\" class=\"dataframe\">\n",
       "  <thead>\n",
       "    <tr style=\"text-align: right;\">\n",
       "      <th></th>\n",
       "      <th>Fruits</th>\n",
       "      <th>Price</th>\n",
       "      <th>Quantity</th>\n",
       "    </tr>\n",
       "  </thead>\n",
       "  <tbody>\n",
       "    <tr>\n",
       "      <th>0</th>\n",
       "      <td>Banana</td>\n",
       "      <td>100</td>\n",
       "      <td>15</td>\n",
       "    </tr>\n",
       "    <tr>\n",
       "      <th>1</th>\n",
       "      <td>Mango</td>\n",
       "      <td>150</td>\n",
       "      <td>10</td>\n",
       "    </tr>\n",
       "    <tr>\n",
       "      <th>2</th>\n",
       "      <td>Apple</td>\n",
       "      <td>230</td>\n",
       "      <td>15</td>\n",
       "    </tr>\n",
       "    <tr>\n",
       "      <th>3</th>\n",
       "      <td>Orange</td>\n",
       "      <td>120</td>\n",
       "      <td>7</td>\n",
       "    </tr>\n",
       "  </tbody>\n",
       "</table>\n",
       "</div>"
      ],
      "text/plain": [
       "   Fruits  Price  Quantity\n",
       "0  Banana    100        15\n",
       "1   Mango    150        10\n",
       "2   Apple    230        15\n",
       "3  Orange    120         7"
      ]
     },
     "execution_count": 75,
     "metadata": {},
     "output_type": "execute_result"
    }
   ],
   "source": [
    "dict = {\"Fruits\":[\"Banana\",\"Mango\",\"Apple\",\"Orange\"],\n",
    "       \"Price\": [100,150,230,120],\n",
    "       \"Quantity\":[15,10,15,7]}\n",
    "df1 = pd.DataFrame(dict)\n",
    "df1"
   ]
  },
  {
   "cell_type": "code",
   "execution_count": 77,
   "id": "91de6dc8-387e-4258-a51e-22f46367b7f1",
   "metadata": {},
   "outputs": [
    {
     "data": {
      "text/html": [
       "<div>\n",
       "<style scoped>\n",
       "    .dataframe tbody tr th:only-of-type {\n",
       "        vertical-align: middle;\n",
       "    }\n",
       "\n",
       "    .dataframe tbody tr th {\n",
       "        vertical-align: top;\n",
       "    }\n",
       "\n",
       "    .dataframe thead th {\n",
       "        text-align: right;\n",
       "    }\n",
       "</style>\n",
       "<table border=\"1\" class=\"dataframe\">\n",
       "  <thead>\n",
       "    <tr style=\"text-align: right;\">\n",
       "      <th></th>\n",
       "      <th>Fruits</th>\n",
       "      <th>Price</th>\n",
       "      <th>Quantity</th>\n",
       "    </tr>\n",
       "  </thead>\n",
       "  <tbody>\n",
       "    <tr>\n",
       "      <th>0</th>\n",
       "      <td>Banana</td>\n",
       "      <td>100</td>\n",
       "      <td>15</td>\n",
       "    </tr>\n",
       "    <tr>\n",
       "      <th>1</th>\n",
       "      <td>Mango</td>\n",
       "      <td>150</td>\n",
       "      <td>10</td>\n",
       "    </tr>\n",
       "    <tr>\n",
       "      <th>2</th>\n",
       "      <td>Apple</td>\n",
       "      <td>230</td>\n",
       "      <td>15</td>\n",
       "    </tr>\n",
       "    <tr>\n",
       "      <th>3</th>\n",
       "      <td>Orange</td>\n",
       "      <td>120</td>\n",
       "      <td>7</td>\n",
       "    </tr>\n",
       "  </tbody>\n",
       "</table>\n",
       "</div>"
      ],
      "text/plain": [
       "   Fruits  Price  Quantity\n",
       "0  Banana    100        15\n",
       "1   Mango    150        10\n",
       "2   Apple    230        15\n",
       "3  Orange    120         7"
      ]
     },
     "execution_count": 77,
     "metadata": {},
     "output_type": "execute_result"
    }
   ],
   "source": [
    "df2= df1.copy()\n",
    "df2"
   ]
  },
  {
   "cell_type": "code",
   "execution_count": 79,
   "id": "d0f98822-e9a2-4437-af3c-68ca015e45da",
   "metadata": {},
   "outputs": [
    {
     "name": "stdout",
     "output_type": "stream",
     "text": [
      "   Fruits  Price  Quantity\n",
      "0  Banana    120        10\n",
      "1   Mango    150        10\n",
      "2   Apple    250        17\n",
      "3  Orange    100        12\n"
     ]
    },
    {
     "data": {
      "text/plain": [
       "<function print(*args, sep=' ', end='\\n', file=None, flush=False)>"
      ]
     },
     "execution_count": 79,
     "metadata": {},
     "output_type": "execute_result"
    }
   ],
   "source": [
    "df2.loc[0,\"Price\"]=120\n",
    "df2.loc[2,\"Price\"]=250\n",
    "df2.loc[3,\"Price\"]=100\n",
    "df2.loc[0,\"Quantity\"]=10\n",
    "df2.loc[2,\"Quantity\"]=17\n",
    "df2.loc[3,\"Quantity\"]=12\n",
    "print(df2)\n",
    "print"
   ]
  },
  {
   "cell_type": "code",
   "execution_count": 81,
   "id": "9c05b396-741b-4963-89d3-577d798e005e",
   "metadata": {},
   "outputs": [
    {
     "name": "stdout",
     "output_type": "stream",
     "text": [
      "   Fruits  Price  Quantity\n",
      "0  Banana    120        10\n",
      "1   Mango    150        10\n",
      "2   Apple    250        17\n",
      "3  Orange    100        12\n"
     ]
    }
   ],
   "source": [
    "print(df2)"
   ]
  },
  {
   "cell_type": "code",
   "execution_count": 83,
   "id": "4c68797b-e8a5-486d-90b9-cc071a78a49c",
   "metadata": {},
   "outputs": [
    {
     "name": "stdout",
     "output_type": "stream",
     "text": [
      "   Fruits  Price  Quantity\n",
      "0  Banana    100        15\n",
      "1   Mango    150        10\n",
      "2   Apple    230        15\n",
      "3  Orange    120         7\n"
     ]
    }
   ],
   "source": [
    "print(df1)"
   ]
  },
  {
   "cell_type": "code",
   "execution_count": 91,
   "id": "c6ec1b8f-f205-460a-8588-f2f25da4ec4f",
   "metadata": {},
   "outputs": [
    {
     "name": "stdout",
     "output_type": "stream",
     "text": [
      "         Price  Quantity\n",
      "0 self   100.0      15.0\n",
      "  other  120.0      10.0\n",
      "2 self   230.0      15.0\n",
      "  other  250.0      17.0\n",
      "3 self   120.0       7.0\n",
      "  other  100.0      12.0\n"
     ]
    }
   ],
   "source": [
    "print(df1.compare(df2,align_axis = 0))"
   ]
  },
  {
   "cell_type": "code",
   "execution_count": 93,
   "id": "1710777b-0cac-45f3-b3eb-414a7ef50038",
   "metadata": {},
   "outputs": [
    {
     "name": "stdout",
     "output_type": "stream",
     "text": [
      "  Price       Quantity      \n",
      "   self other     self other\n",
      "0   100   120       15    10\n",
      "2   230   250       15    17\n",
      "3   120   100        7    12\n"
     ]
    }
   ],
   "source": [
    "print(df1.compare(df2,keep_equal=True))"
   ]
  },
  {
   "cell_type": "markdown",
   "id": "7568ec4f-8bf9-4e42-bedc-001d39fd66f7",
   "metadata": {},
   "source": [
    "## pivoting and melting dataframe"
   ]
  },
  {
   "cell_type": "code",
   "execution_count": 102,
   "id": "f81cc449-a501-4ffe-81e3-dd99bc7c1ff5",
   "metadata": {},
   "outputs": [
    {
     "name": "stdout",
     "output_type": "stream",
     "text": [
      "  Keys   Name Houses Grades\n",
      "0   k1  David    red    3rd\n",
      "1   k2  Peter   Blue    4th\n",
      "2   k1   john  green    8th\n",
      "3   k2    Ben    red    2nd\n"
     ]
    }
   ],
   "source": [
    "dict = {\"Keys\":[\"k1\",\"k2\",\"k1\",\"k2\"],\n",
    "       \"Name\":[\"David\",\"Peter\",\"john\",\"Ben\"],\n",
    "       \"Houses\":[\"red\",\"Blue\",\"green\",\"red\"],\n",
    "       \"Grades\":[\"3rd\",\"4th\",\"8th\",\"2nd\"]}\n",
    "df1=pd.DataFrame(dict)\n",
    "print(df1)"
   ]
  },
  {
   "cell_type": "code",
   "execution_count": 108,
   "id": "9527553a-9378-4032-a26a-513aad112e9a",
   "metadata": {},
   "outputs": [
    {
     "data": {
      "text/html": [
       "<div>\n",
       "<style scoped>\n",
       "    .dataframe tbody tr th:only-of-type {\n",
       "        vertical-align: middle;\n",
       "    }\n",
       "\n",
       "    .dataframe tbody tr th {\n",
       "        vertical-align: top;\n",
       "    }\n",
       "\n",
       "    .dataframe thead th {\n",
       "        text-align: right;\n",
       "    }\n",
       "</style>\n",
       "<table border=\"1\" class=\"dataframe\">\n",
       "  <thead>\n",
       "    <tr style=\"text-align: right;\">\n",
       "      <th>Name</th>\n",
       "      <th>Ben</th>\n",
       "      <th>David</th>\n",
       "      <th>Peter</th>\n",
       "      <th>john</th>\n",
       "    </tr>\n",
       "    <tr>\n",
       "      <th>Keys</th>\n",
       "      <th></th>\n",
       "      <th></th>\n",
       "      <th></th>\n",
       "      <th></th>\n",
       "    </tr>\n",
       "  </thead>\n",
       "  <tbody>\n",
       "    <tr>\n",
       "      <th>k1</th>\n",
       "      <td>NaN</td>\n",
       "      <td>red</td>\n",
       "      <td>NaN</td>\n",
       "      <td>green</td>\n",
       "    </tr>\n",
       "    <tr>\n",
       "      <th>k2</th>\n",
       "      <td>red</td>\n",
       "      <td>NaN</td>\n",
       "      <td>Blue</td>\n",
       "      <td>NaN</td>\n",
       "    </tr>\n",
       "  </tbody>\n",
       "</table>\n",
       "</div>"
      ],
      "text/plain": [
       "Name  Ben David Peter   john\n",
       "Keys                        \n",
       "k1    NaN   red   NaN  green\n",
       "k2    red   NaN  Blue    NaN"
      ]
     },
     "execution_count": 108,
     "metadata": {},
     "output_type": "execute_result"
    }
   ],
   "source": [
    "df1.pivot(index=\"Keys\", columns=\"Name\", values=\"Houses\")"
   ]
  },
  {
   "cell_type": "code",
   "execution_count": 106,
   "id": "2616c8cb-62f9-4447-b35d-7587e1624c20",
   "metadata": {},
   "outputs": [
    {
     "name": "stdout",
     "output_type": "stream",
     "text": [
      "     Houses                    Grades                 \n",
      "Name    Ben David Peter   john    Ben David Peter john\n",
      "Keys                                                  \n",
      "k1      NaN   red   NaN  green    NaN   3rd   NaN  8th\n",
      "k2      red   NaN  Blue    NaN    2nd   NaN   4th  NaN\n"
     ]
    }
   ],
   "source": [
    "print(df1.pivot(index=\"Keys\", columns=\"Name\", values=[\"Houses\",\"Grades\"]))"
   ]
  },
  {
   "cell_type": "code",
   "execution_count": 110,
   "id": "7e1ce934-89e0-48d1-9d12-8ffd02eff593",
   "metadata": {},
   "outputs": [
    {
     "name": "stdout",
     "output_type": "stream",
     "text": [
      "    Name Houses Grades\n",
      "0  David    red    3rd\n",
      "1  Peter   Blue    4th\n",
      "2   john  green    8th\n",
      "3    Ben    red    2nd\n"
     ]
    }
   ],
   "source": [
    "dict2 = {\"Name\":[\"David\",\"Peter\",\"john\",\"Ben\"],\n",
    "       \"Houses\":[\"red\",\"Blue\",\"green\",\"red\"],\n",
    "       \"Grades\":[\"3rd\",\"4th\",\"8th\",\"2nd\"]}\n",
    "df2=pd.DataFrame(dict2)\n",
    "print(df2)"
   ]
  },
  {
   "cell_type": "code",
   "execution_count": 120,
   "id": "e88f9cca-4fd8-4f45-b9c0-cb6803e75cf4",
   "metadata": {},
   "outputs": [
    {
     "name": "stdout",
     "output_type": "stream",
     "text": [
      "    Name variable  value\n",
      "0  David   Houses    red\n",
      "1  Peter   Houses   Blue\n",
      "2   john   Houses  green\n",
      "3    Ben   Houses    red\n"
     ]
    }
   ],
   "source": [
    "print(pd.melt(df2, id_vars=[\"Name\"],value_vars=[\"Houses\"])) #equal to missing\n"
   ]
  },
  {
   "cell_type": "code",
   "execution_count": 124,
   "id": "d756f2c0-e676-469f-b7cc-29f110faf5b5",
   "metadata": {},
   "outputs": [
    {
     "name": "stdout",
     "output_type": "stream",
     "text": [
      "    Name House and Grades Values\n",
      "0  David           Houses    red\n",
      "1  Peter           Houses   Blue\n",
      "2   john           Houses  green\n",
      "3    Ben           Houses    red\n",
      "4  David           Grades    3rd\n",
      "5  Peter           Grades    4th\n",
      "6   john           Grades    8th\n",
      "7    Ben           Grades    2nd\n"
     ]
    }
   ],
   "source": [
    "# value_vars print(pd.melt(df2, id_vars=[\"Name\"],value_vars =[\"Houses\",\"Grades\"],var_name=\"House and Grades\",value_name=\"Values\"))\n",
    "print(pd.melt(df2, id_vars=[\"Name\"], value_vars=[\"Houses\", \"Grades\"], \n",
    "              var_name=\"House and Grades\", value_name=\"Values\"))\n"
   ]
  },
  {
   "cell_type": "code",
   "execution_count": null,
   "id": "1716e1b8-99c8-407c-801f-a3c54c7404f7",
   "metadata": {},
   "outputs": [],
   "source": []
  }
 ],
 "metadata": {
  "kernelspec": {
   "display_name": "Python [conda env:base] *",
   "language": "python",
   "name": "conda-base-py"
  },
  "language_info": {
   "codemirror_mode": {
    "name": "ipython",
    "version": 3
   },
   "file_extension": ".py",
   "mimetype": "text/x-python",
   "name": "python",
   "nbconvert_exporter": "python",
   "pygments_lexer": "ipython3",
   "version": "3.12.7"
  }
 },
 "nbformat": 4,
 "nbformat_minor": 5
}
