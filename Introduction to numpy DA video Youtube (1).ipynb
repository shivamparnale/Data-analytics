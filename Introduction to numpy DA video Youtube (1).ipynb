{
 "cells": [
  {
   "cell_type": "code",
   "execution_count": 3,
   "id": "c9d1e7cc-17ff-48f3-9ba9-ee5db5ab43fc",
   "metadata": {},
   "outputs": [],
   "source": [
    "import numpy as np"
   ]
  },
  {
   "cell_type": "code",
   "execution_count": 3,
   "id": "b8529fd7-cd4e-4584-be58-5129f8d9c927",
   "metadata": {},
   "outputs": [
    {
     "name": "stdout",
     "output_type": "stream",
     "text": [
      "[20, 30, 40, 50, 60, 70]\n"
     ]
    }
   ],
   "source": [
    "l1=[20,30,40]\n",
    "l2=[50,60,70]\n",
    "print(l1+l2)"
   ]
  },
  {
   "cell_type": "code",
   "execution_count": 4,
   "id": "4539a9c4-e826-4c72-ab72-2366254b4ae6",
   "metadata": {},
   "outputs": [
    {
     "name": "stdout",
     "output_type": "stream",
     "text": [
      "[20 30 40]\n",
      "[60 70 80]\n",
      "[ 80 100 120]\n"
     ]
    }
   ],
   "source": [
    "a = np.array([20,30,40])\n",
    "b = np.array([60,70,80])\n",
    "print(a)\n",
    "print(b)\n",
    "print(a+b)"
   ]
  },
  {
   "cell_type": "raw",
   "id": "12a1567d-017c-4353-9969-f37dd6a4a42c",
   "metadata": {},
   "source": [
    "matlab array ke ander mathematical operations hote hai par woh list mein nahi hote "
   ]
  },
  {
   "cell_type": "code",
   "execution_count": 5,
   "id": "963e327a-85f6-4ffc-a12c-0ad77419834d",
   "metadata": {},
   "outputs": [
    {
     "name": "stdout",
     "output_type": "stream",
     "text": [
      "['20' '30' '60']\n"
     ]
    }
   ],
   "source": [
    "a = np.array([20,30,'60'])\n",
    "print(a)"
   ]
  },
  {
   "cell_type": "raw",
   "id": "a2d774e9-ac6b-427c-bbf6-865029eaa48e",
   "metadata": {},
   "source": [
    "matlab array ke ander sab value same data type pe store hote hai isliye sab string me convert ho gaye"
   ]
  },
  {
   "cell_type": "markdown",
   "id": "3c6946f9-1e4e-435b-bfdf-1002972d450f",
   "metadata": {},
   "source": [
    "### NUMPY - Creating Arrays , Slicing and Attributes"
   ]
  },
  {
   "cell_type": "code",
   "execution_count": 10,
   "id": "4b4643f3-5d00-401f-9802-b000fce11562",
   "metadata": {},
   "outputs": [
    {
     "name": "stdout",
     "output_type": "stream",
     "text": [
      "[10 20 30 40]\n",
      "<class 'numpy.ndarray'>\n"
     ]
    }
   ],
   "source": [
    "a = np.array([10,20,30,40])\n",
    "print(a)\n",
    "print(type(a))\n"
   ]
  },
  {
   "cell_type": "code",
   "execution_count": 12,
   "id": "872234c2-a97d-4963-b504-b9c4c458e6ec",
   "metadata": {},
   "outputs": [
    {
     "name": "stdout",
     "output_type": "stream",
     "text": [
      "[[10 20 30 40]\n",
      " [50 60 70 80]]\n",
      "<class 'numpy.ndarray'>\n"
     ]
    }
   ],
   "source": [
    "arr = np.array([[10,20,30,40],[50,60,70,80]])\n",
    "print(arr)\n",
    "print(type(arr))\n",
    "# Multi-diamentional array "
   ]
  },
  {
   "cell_type": "markdown",
   "id": "cc62fff6-634c-472b-8414-05543cc7e0fb",
   "metadata": {},
   "source": [
    "### Slicing "
   ]
  },
  {
   "cell_type": "code",
   "execution_count": 15,
   "id": "8a81452b-8e96-4c20-9fbe-e01f88f55bb7",
   "metadata": {},
   "outputs": [
    {
     "name": "stdout",
     "output_type": "stream",
     "text": [
      "[10 20 30 40]\n",
      "10\n",
      "[10 20 30 40]\n",
      "[20 30 40]\n",
      "[40]\n",
      "[10 20 30 40]\n",
      "[10 20 30]\n",
      "[10 20 30]\n"
     ]
    }
   ],
   "source": [
    "ar1 = np.array([10,20,30,40])\n",
    "print(ar1)\n",
    "print(ar1[0])\n",
    "print(ar1[0:])\n",
    "print(ar1[1:])\n",
    "print(ar1[3:])\n",
    "print(ar1[:])\n",
    "print(ar1[:3])\n",
    "print(ar1[:3])"
   ]
  },
  {
   "cell_type": "markdown",
   "id": "d7be788c-59d6-4df6-a3e0-c39fea34e32d",
   "metadata": {},
   "source": [
    "## Attributes"
   ]
  },
  {
   "cell_type": "code",
   "execution_count": 18,
   "id": "2fa9cea1-691f-468f-a8a7-67a67b384c09",
   "metadata": {},
   "outputs": [
    {
     "name": "stdout",
     "output_type": "stream",
     "text": [
      "[[ 10  20  30  40]\n",
      " [ 50  60  70  80]\n",
      " [ 90 100 110 120]]\n",
      "(3, 4)\n",
      "12\n",
      "2\n",
      "int32\n"
     ]
    }
   ],
   "source": [
    "arr2 = np.array([[10,20,30,40],[50,60,70,80],[90,100,110,120]])\n",
    "print(arr2)\n",
    "print(arr2.shape)\n",
    "print(arr2.size)\n",
    "print(arr2.ndim)\n",
    "print(arr2.dtype)"
   ]
  },
  {
   "cell_type": "markdown",
   "id": "dc37dc59-2bb6-4662-adbe-6a0236d623f1",
   "metadata": {},
   "source": [
    "## Inspecting of array "
   ]
  },
  {
   "cell_type": "code",
   "execution_count": 47,
   "id": "339149d2-f394-4450-a129-d7bd8c186cc3",
   "metadata": {},
   "outputs": [
    {
     "name": "stdout",
     "output_type": "stream",
     "text": [
      "[10 20 30 40]\n",
      "(4,)\n",
      "4\n",
      "4\n",
      "<class 'numpy.ndarray'>\n",
      "int32\n",
      "['10' '20' '30' '40']\n"
     ]
    }
   ],
   "source": [
    "a = [10,20,30,40]\n",
    "arr = np.array(a)\n",
    "print(arr)\n",
    "print(arr.shape)\n",
    "print(len(arr)) #number of nested values\n",
    "print(np.size(arr)) # number of element\n",
    "print(type(arr)) #tyoe of variable\n",
    "print(arr.dtype) # datatype of array \n",
    "print(arr.astype(str)) # conversion of dtype"
   ]
  },
  {
   "cell_type": "markdown",
   "id": "6cebcc58-311d-49bb-b6b7-0863c2df25a1",
   "metadata": {},
   "source": [
    "## Mathematical Operation and function of array"
   ]
  },
  {
   "cell_type": "code",
   "execution_count": 56,
   "id": "a75f6ab9-7248-46ce-80b2-365c0681a9ae",
   "metadata": {},
   "outputs": [
    {
     "name": "stdout",
     "output_type": "stream",
     "text": [
      "[ 70  90 110 130 150]\n",
      "[ 70  90 110 130 150]\n"
     ]
    }
   ],
   "source": [
    "arr1 = np.array([60,70,80,90,100])\n",
    "arr2 = np.array([10,20,30,40,50])\n",
    "print(arr1+arr2)\n",
    "print(np.add(arr1,arr2))"
   ]
  },
  {
   "cell_type": "code",
   "execution_count": 70,
   "id": "3a1d2ff9-bfcf-47d9-aba4-a09a7b9121fa",
   "metadata": {},
   "outputs": [
    {
     "name": "stdout",
     "output_type": "stream",
     "text": [
      "[[ 70  90]\n",
      " [110 130]]\n",
      "[[ 70  90]\n",
      " [110 130]]\n"
     ]
    }
   ],
   "source": [
    "arr3 = np.array([[60,70],[80,90]])\n",
    "arr4 = np.array([[10,20],[30,40]])\n",
    "print(arr3+arr4)\n",
    "print(np.add(arr3,arr4))"
   ]
  },
  {
   "cell_type": "code",
   "execution_count": 74,
   "id": "80488e91-bf84-48b2-9b98-2386aaac3b3f",
   "metadata": {},
   "outputs": [
    {
     "name": "stdout",
     "output_type": "stream",
     "text": [
      "[[50 50]\n",
      " [50 50]]\n",
      "[[50 50]\n",
      " [50 50]]\n"
     ]
    }
   ],
   "source": [
    "arr5 = np.array([[60,70],[80,90]])\n",
    "arr6 = np.array([[10,20],[30,40]])\n",
    "print(arr3-arr4)\n",
    "print(np.subtract(arr3,arr4))"
   ]
  },
  {
   "cell_type": "code",
   "execution_count": 76,
   "id": "4ca8d66e-ef6f-4c7f-9726-affd0c440ce9",
   "metadata": {},
   "outputs": [
    {
     "name": "stdout",
     "output_type": "stream",
     "text": [
      "[[ 600 1400]\n",
      " [2400 3600]]\n",
      "[[ 600 1400]\n",
      " [2400 3600]]\n"
     ]
    }
   ],
   "source": [
    "arr7 = np.array([[60,70],[80,90]])\n",
    "arr8 = np.array([[10,20],[30,40]])\n",
    "print(arr7*arr8)\n",
    "print(np.multiply(arr7,arr8))"
   ]
  },
  {
   "cell_type": "code",
   "execution_count": 78,
   "id": "bb85174e-6ab9-49d4-bcb6-9415699b3f2e",
   "metadata": {},
   "outputs": [
    {
     "name": "stdout",
     "output_type": "stream",
     "text": [
      "[[6.         3.5       ]\n",
      " [2.66666667 2.25      ]]\n",
      "[[6.         3.5       ]\n",
      " [2.66666667 2.25      ]]\n"
     ]
    }
   ],
   "source": [
    "arr9 = np.array([[60,70],[80,90]])\n",
    "arr10 = np.array([[10,20],[30,40]])\n",
    "print(arr9/arr10)\n",
    "print(np.divide(arr9,arr10))"
   ]
  },
  {
   "cell_type": "code",
   "execution_count": 80,
   "id": "09587112-a700-44e0-92da-34c2374d286d",
   "metadata": {},
   "outputs": [
    {
     "name": "stdout",
     "output_type": "stream",
     "text": [
      "[[216000 343000]\n",
      " [512000 729000]]\n"
     ]
    }
   ],
   "source": [
    "arr5 = np.array([[60,70],[80,90]])\n",
    "arr6 = np.array([3])\n",
    "print(np.power(arr5,arr6))"
   ]
  },
  {
   "cell_type": "code",
   "execution_count": 86,
   "id": "139d65d8-80e2-43e5-adb6-c5279857b06b",
   "metadata": {},
   "outputs": [
    {
     "name": "stdout",
     "output_type": "stream",
     "text": [
      "[ 7.74596669  8.36660027  8.94427191  9.48683298 10.        ]\n"
     ]
    }
   ],
   "source": [
    "arr5 = np.array([60,70,80,90,100])\n",
    "print(np.sqrt(arr5))"
   ]
  },
  {
   "cell_type": "markdown",
   "id": "88adbba2-2575-4091-bf07-7084f3928703",
   "metadata": {},
   "source": [
    "### join and split "
   ]
  },
  {
   "cell_type": "code",
   "execution_count": 95,
   "id": "f9113883-9c0d-4917-bdcb-7832cc7c8cbf",
   "metadata": {},
   "outputs": [
    {
     "name": "stdout",
     "output_type": "stream",
     "text": [
      "[60 70 80 10 20 30]\n"
     ]
    }
   ],
   "source": [
    "arr44= np.array([60,70,80])\n",
    "arr45 = np.array([10,20,30])\n",
    "print(np.concatenate([arr44,arr45]))"
   ]
  },
  {
   "cell_type": "code",
   "execution_count": 101,
   "id": "dff2e9c0-870c-4ba5-a14f-115b39dabd06",
   "metadata": {},
   "outputs": [
    {
     "name": "stdout",
     "output_type": "stream",
     "text": [
      "[[60 70 10 20]\n",
      " [80 90 30 40]]\n"
     ]
    }
   ],
   "source": [
    "arr9 = np.array([[60,70],[80,90]])\n",
    "arr10 = np.array([[10,20],[30,40]])\n",
    "print(np.concatenate([arr9,arr10], axis=1))"
   ]
  },
  {
   "cell_type": "code",
   "execution_count": 103,
   "id": "ef0f540f-e582-4246-ac0d-d381c4fd0291",
   "metadata": {},
   "outputs": [
    {
     "name": "stdout",
     "output_type": "stream",
     "text": [
      "[[60 70]\n",
      " [80 90]\n",
      " [10 20]\n",
      " [30 40]]\n"
     ]
    }
   ],
   "source": [
    "arr9 = np.array([[60,70],[80,90]])\n",
    "arr10 = np.array([[10,20],[30,40]])\n",
    "print(np.concatenate([arr9,arr10], axis=0))"
   ]
  },
  {
   "cell_type": "code",
   "execution_count": 107,
   "id": "cec2ca5b-b5d0-417b-9b9d-943fb6c8f7fa",
   "metadata": {},
   "outputs": [
    {
     "name": "stdout",
     "output_type": "stream",
     "text": [
      "[[60 70 10 20]\n",
      " [80 90 30 40]]\n"
     ]
    }
   ],
   "source": [
    "print(np.hstack([arr9,arr10]))  # horizontal concatenation "
   ]
  },
  {
   "cell_type": "code",
   "execution_count": 111,
   "id": "a64386de-dcc9-4581-a178-8f0b4d5c8948",
   "metadata": {},
   "outputs": [
    {
     "name": "stdout",
     "output_type": "stream",
     "text": [
      "[[60 70]\n",
      " [80 90]\n",
      " [10 20]\n",
      " [30 40]]\n"
     ]
    }
   ],
   "source": [
    "print(np.vstack([arr9,arr10]))  # vertical concatenation "
   ]
  },
  {
   "cell_type": "code",
   "execution_count": 113,
   "id": "29b8af53-1b0f-4efa-9589-f4d8d936feef",
   "metadata": {},
   "outputs": [
    {
     "name": "stdout",
     "output_type": "stream",
     "text": [
      "[array([60, 70]), array([80, 90]), array([100])]\n"
     ]
    }
   ],
   "source": [
    "arr5 = np.array([60,70,80,90,100])\n",
    "print(np.array_split(arr5,3))"
   ]
  },
  {
   "cell_type": "code",
   "execution_count": 7,
   "id": "fed74eb1-4d8e-4fa2-b920-73f452550f98",
   "metadata": {},
   "outputs": [
    {
     "name": "stdout",
     "output_type": "stream",
     "text": [
      "[80 90]\n"
     ]
    }
   ],
   "source": [
    "arr5 = np.array([60,70,80,90,100])\n",
    "b = (np.array_split(arr5,3))\n",
    "print(b[1]) # [array([60, 70]), array([80, 90]), array([100])] iska 1"
   ]
  },
  {
   "cell_type": "code",
   "execution_count": 13,
   "id": "a3e87548-7c72-4264-870c-f0c3a3f36720",
   "metadata": {},
   "outputs": [
    {
     "name": "stdout",
     "output_type": "stream",
     "text": [
      "[array([[60, 70]]), array([[80, 90]]), array([[100, 110]])]\n"
     ]
    }
   ],
   "source": [
    "arr5 = np.array([[60,70],[80,90],[100,110]])\n",
    "b = (np.array_split(arr5,3))\n",
    "print(b)"
   ]
  },
  {
   "cell_type": "markdown",
   "id": "725793d3-db16-4aab-9d6e-db607628ec09",
   "metadata": {},
   "source": [
    "###  Adding and removing element in array"
   ]
  },
  {
   "cell_type": "code",
   "execution_count": 35,
   "id": "94ad2981-bf04-4983-8fd8-b8f2eb89ae7a",
   "metadata": {},
   "outputs": [
    {
     "name": "stdout",
     "output_type": "stream",
     "text": [
      "[20 30 60 70 40 50]\n"
     ]
    }
   ],
   "source": [
    "c = np.array([[20,30],[60,70]])\n",
    "print(np.append(c,[40,50]))"
   ]
  },
  {
   "cell_type": "code",
   "execution_count": 29,
   "id": "c526187b-0c70-4c0f-94d9-6c9960cbaf18",
   "metadata": {},
   "outputs": [
    {
     "name": "stdout",
     "output_type": "stream",
     "text": [
      "[20 30 40 50 60 70]\n"
     ]
    }
   ],
   "source": [
    "a = np.array([20,30,60,70])\n",
    "print(np.insert(a,2,[40,50])) # array , index, value"
   ]
  },
  {
   "cell_type": "code",
   "execution_count": 43,
   "id": "52d9cd50-f60b-47a5-8e43-bf71da55343f",
   "metadata": {},
   "outputs": [
    {
     "name": "stdout",
     "output_type": "stream",
     "text": [
      "[[20 30]\n",
      " [40 50]\n",
      " [60 70]]\n"
     ]
    }
   ],
   "source": [
    "d = np.insert(c,1,[40,50],axis = 0)\n",
    "print(d)"
   ]
  },
  {
   "cell_type": "code",
   "execution_count": 45,
   "id": "8663e2d7-3c9e-49b1-8371-d0bc573e724a",
   "metadata": {},
   "outputs": [
    {
     "name": "stdout",
     "output_type": "stream",
     "text": [
      "[[20 40 30]\n",
      " [60 50 70]]\n"
     ]
    }
   ],
   "source": [
    "d = np.insert(c,1,[40,50],axis = 1)\n",
    "print(d)"
   ]
  },
  {
   "cell_type": "code",
   "execution_count": 53,
   "id": "a93e6e6a-9361-4a9b-8344-3aaf2bc66a37",
   "metadata": {},
   "outputs": [
    {
     "name": "stdout",
     "output_type": "stream",
     "text": [
      "[[20 30]\n",
      " [50 50]\n",
      " [60 70]\n",
      " [50 50]]\n"
     ]
    }
   ],
   "source": [
    "print(np.insert(c,[1,2],[50],axis = 0))"
   ]
  },
  {
   "cell_type": "code",
   "execution_count": 59,
   "id": "b7b7b9d7-34d9-44b3-ae7b-c0ca4081bf16",
   "metadata": {},
   "outputs": [
    {
     "name": "stdout",
     "output_type": "stream",
     "text": [
      "[[20 30]\n",
      " [60 70]]\n"
     ]
    }
   ],
   "source": [
    "print(c)"
   ]
  },
  {
   "cell_type": "code",
   "execution_count": 61,
   "id": "d22b3ddd-db1f-4511-bc6b-a95c28f1b7f3",
   "metadata": {},
   "outputs": [
    {
     "name": "stdout",
     "output_type": "stream",
     "text": [
      "[20 60 70]\n"
     ]
    }
   ],
   "source": [
    "print(np.delete(c,1))"
   ]
  },
  {
   "cell_type": "code",
   "execution_count": 67,
   "id": "a30f35c9-28c8-4183-8a1f-5348a923c934",
   "metadata": {},
   "outputs": [
    {
     "name": "stdout",
     "output_type": "stream",
     "text": [
      "[[20]\n",
      " [60]]\n"
     ]
    }
   ],
   "source": [
    "print(np.delete(c,1,axis = 1))"
   ]
  },
  {
   "cell_type": "code",
   "execution_count": 69,
   "id": "d5f96ff8-7503-4ddd-8ed1-6f8db05d5e20",
   "metadata": {},
   "outputs": [
    {
     "name": "stdout",
     "output_type": "stream",
     "text": [
      "[[20 30]]\n"
     ]
    }
   ],
   "source": [
    "print(np.delete(c,1,axis = 0))"
   ]
  },
  {
   "cell_type": "markdown",
   "id": "8f9ac960-6f90-41a7-9efb-0abf242dd1fb",
   "metadata": {},
   "source": [
    "### sort , filter and search"
   ]
  },
  {
   "cell_type": "code",
   "execution_count": 72,
   "id": "37376540-16b9-4837-b388-d56fdb14d300",
   "metadata": {},
   "outputs": [
    {
     "name": "stdout",
     "output_type": "stream",
     "text": [
      "[2 4 5 6 7 8]\n"
     ]
    }
   ],
   "source": [
    "arr = np.array([7,5,6,8,2,4])\n",
    "print(np.sort(arr))"
   ]
  },
  {
   "cell_type": "code",
   "execution_count": 80,
   "id": "cbe3b86f-03c3-46b0-bb19-44aa955e2185",
   "metadata": {},
   "outputs": [
    {
     "name": "stdout",
     "output_type": "stream",
     "text": [
      "[[2 4 5 6 7 8]\n",
      " [1 2 3 4 5 7]]\n"
     ]
    }
   ],
   "source": [
    "arr = np.array([[7,5,6,8,2,4],[4,5,7,3,2,1]])\n",
    "print(np.sort(arr))"
   ]
  },
  {
   "cell_type": "code",
   "execution_count": 82,
   "id": "f1de3874-ef45-487b-858e-25eab6684d93",
   "metadata": {},
   "outputs": [
    {
     "name": "stdout",
     "output_type": "stream",
     "text": [
      "(array([1], dtype=int64),)\n"
     ]
    }
   ],
   "source": [
    "arr2 = np.array([3,4,1,7,8])\n",
    "s= np.where(arr2 == 4)\n",
    "print(s)"
   ]
  },
  {
   "cell_type": "code",
   "execution_count": 86,
   "id": "ff28d810-abb1-407f-9c48-e6ecdf8dd353",
   "metadata": {},
   "outputs": [
    {
     "name": "stdout",
     "output_type": "stream",
     "text": [
      "(array([1, 4], dtype=int64),)\n"
     ]
    }
   ],
   "source": [
    "arr2 = np.array([3,4,1,7,8])\n",
    "s= np.where(arr2%2==0)\n",
    "print(s)  # search ke liye where use karna"
   ]
  },
  {
   "cell_type": "code",
   "execution_count": 94,
   "id": "7bdd58d1-143c-44eb-86bd-987c3a0604a0",
   "metadata": {},
   "outputs": [
    {
     "name": "stdout",
     "output_type": "stream",
     "text": [
      "4\n"
     ]
    }
   ],
   "source": [
    "arr2 = np.array([1,2,3,4,5])\n",
    "ss = np.searchsorted(arr2,5)  # use array element to search element index\n",
    "print(ss)"
   ]
  },
  {
   "cell_type": "code",
   "execution_count": 96,
   "id": "33a5ce3d-ed04-4515-87a3-19dcb814a389",
   "metadata": {},
   "outputs": [
    {
     "name": "stdout",
     "output_type": "stream",
     "text": [
      "[20 40]\n"
     ]
    }
   ],
   "source": [
    "a = np.array([20,30,40,50])\n",
    "fa = [True, False, True , False]\n",
    "new = a[fa]\n",
    "print(new)"
   ]
  },
  {
   "cell_type": "code",
   "execution_count": 100,
   "id": "403e9361-a444-42fe-9061-07c09e33c94b",
   "metadata": {},
   "outputs": [
    {
     "name": "stdout",
     "output_type": "stream",
     "text": [
      "[40 50]\n"
     ]
    }
   ],
   "source": [
    "a = np.array([20,30,40,50])\n",
    "fa = a>35\n",
    "new = a[fa]\n",
    "print(new)"
   ]
  },
  {
   "cell_type": "code",
   "execution_count": 104,
   "id": "a9a84dcf-7764-4243-9150-d7edae95d5ef",
   "metadata": {},
   "outputs": [
    {
     "name": "stdout",
     "output_type": "stream",
     "text": [
      "[20 30 40 50]\n"
     ]
    }
   ],
   "source": [
    "a = np.array([20,30,40,50])\n",
    "fa = a%2==0\n",
    "new = a[fa]\n",
    "print(new)"
   ]
  },
  {
   "cell_type": "markdown",
   "id": "927b2739-d114-4418-afe9-72cb5bed5ce6",
   "metadata": {},
   "source": [
    "### Aggrecating numbers"
   ]
  },
  {
   "cell_type": "code",
   "execution_count": 114,
   "id": "b1f7c06c-b6f8-4239-a7cc-81be6d869f7c",
   "metadata": {},
   "outputs": [
    {
     "name": "stdout",
     "output_type": "stream",
     "text": [
      "190\n",
      "20\n",
      "70\n",
      "4\n",
      "47.5\n",
      "[ 20  60 120 190]\n",
      "[     20     800   48000 3360000]\n"
     ]
    }
   ],
   "source": [
    "a = np.array([20,40,60,70])\n",
    "print(np.sum(a))\n",
    "print(np.min(a))\n",
    "print(np.max(a))\n",
    "print(np.size(a))\n",
    "print(np.mean(a))\n",
    "print(np.cumsum(a))\n",
    "print(np.cumprod(a))"
   ]
  },
  {
   "cell_type": "code",
   "execution_count": 142,
   "id": "6a500504-2680-467e-b2b2-7f78da18c469",
   "metadata": {},
   "outputs": [
    {
     "name": "stdout",
     "output_type": "stream",
     "text": [
      "[100 150 199 200 250 130]\n",
      "[10 50 30 40 30 10]\n",
      "1029\n",
      "100\n",
      "31270\n"
     ]
    }
   ],
   "source": [
    "a = [100,150,199,200,250,130]\n",
    "b = [10,50,30,40,30,10]\n",
    "\n",
    "price = np.array(a)\n",
    "quantity = np.array(b)\n",
    "print(price)\n",
    "print(quantity)\n",
    "\n",
    "print(np.sum(price))\n",
    "print(np.min(price))\n",
    "c = np.cumprod([price,quantity],axis = 0)\n",
    "print(c[1].sum())"
   ]
  },
  {
   "cell_type": "markdown",
   "id": "d436e9d9-6e48-4c13-8f39-1cf5f36b8d85",
   "metadata": {},
   "source": [
    "### Statistical functions in numpy"
   ]
  },
  {
   "cell_type": "code",
   "execution_count": 157,
   "id": "7b11f16d-61dc-490f-85df-4a9d605b7ebf",
   "metadata": {},
   "outputs": [
    {
     "name": "stdout",
     "output_type": "stream",
     "text": [
      "202.25\n",
      "194.0\n",
      "200\n",
      "55.68157235567257\n",
      "3100.4375\n"
     ]
    }
   ],
   "source": [
    "import numpy as np\n",
    "import statistics as sts\n",
    "\n",
    "backed_food = [200,300,150,130,200,280,170,188]\n",
    "\n",
    "a = np.array(backed_food)\n",
    "print(np.mean(a)) #sum of all value / number of values\n",
    "print(np.median(a)) # biche middle 2 element + and % by 2 \n",
    "print(sts.mode(a)) # most reoccur\n",
    "print(np.std(a))\n",
    "print(np.var(a))"
   ]
  },
  {
   "cell_type": "code",
   "execution_count": 149,
   "id": "706b36fa-460e-42f5-a10d-3ceac2775401",
   "metadata": {},
   "outputs": [
    {
     "name": "stdout",
     "output_type": "stream",
     "text": [
      "[130 150 170 188 200 200 280 300]\n"
     ]
    }
   ],
   "source": [
    "print(np.sort(a))"
   ]
  },
  {
   "cell_type": "code",
   "execution_count": 161,
   "id": "d5ab3696-fbc9-4718-a558-6ee779d2c4bc",
   "metadata": {},
   "outputs": [
    {
     "name": "stdout",
     "output_type": "stream",
     "text": [
      "[[1.         0.99015454]\n",
      " [0.99015454 1.        ]]\n"
     ]
    }
   ],
   "source": [
    "#-1 represent inversly proporsional relationship\n",
    "# 1 represent proporsional relationship\n",
    "# 0 means no relationship\n",
    "tobacco_consumption = [30,50,10,30,50,40]\n",
    "death = [100,120,70,100,120,112]\n",
    "\n",
    "print(np.corrcoef([tobacco_consumption,death]))\n",
    "    "
   ]
  },
  {
   "cell_type": "code",
   "execution_count": null,
   "id": "8cd2cc13-84a7-4577-974f-41a3c8d31b44",
   "metadata": {},
   "outputs": [],
   "source": []
  }
 ],
 "metadata": {
  "kernelspec": {
   "display_name": "Python [conda env:base] *",
   "language": "python",
   "name": "conda-base-py"
  },
  "language_info": {
   "codemirror_mode": {
    "name": "ipython",
    "version": 3
   },
   "file_extension": ".py",
   "mimetype": "text/x-python",
   "name": "python",
   "nbconvert_exporter": "python",
   "pygments_lexer": "ipython3",
   "version": "3.12.7"
  }
 },
 "nbformat": 4,
 "nbformat_minor": 5
}
